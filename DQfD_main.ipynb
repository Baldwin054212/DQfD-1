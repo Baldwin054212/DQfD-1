{
  "nbformat": 4,
  "nbformat_minor": 0,
  "metadata": {
    "colab": {
      "name": "DQfD_main.ipynb",
      "provenance": [],
      "mount_file_id": "1oRs2WPoUsEQrLoDdqJ8WNnN4px4cCdFm",
      "authorship_tag": "ABX9TyOslAOrrhXBDJ1S686WTVYD",
      "include_colab_link": true
    },
    "kernelspec": {
      "name": "python3",
      "display_name": "Python 3"
    },
    "accelerator": "GPU"
  },
  "cells": [
    {
      "cell_type": "markdown",
      "metadata": {
        "id": "view-in-github",
        "colab_type": "text"
      },
      "source": [
        "<a href=\"https://colab.research.google.com/github/Kokkini/DQfD/blob/master/DQfD_main.ipynb\" target=\"_parent\"><img src=\"https://colab.research.google.com/assets/colab-badge.svg\" alt=\"Open In Colab\"/></a>"
      ]
    },
    {
      "cell_type": "code",
      "metadata": {
        "id": "nLKIVoRu16Fy",
        "colab_type": "code",
        "colab": {
          "base_uri": "https://localhost:8080/",
          "height": 292
        },
        "outputId": "5aa60148-70db-4c18-9d69-a592f70edd10"
      },
      "source": [
        "%tensorflow_version 2.x\n",
        "# !pip install stable-baselines[mpi]==2.10.0\n",
        "!pip install gym\n",
        "!pip install pynput"
      ],
      "execution_count": 1,
      "outputs": [
        {
          "output_type": "stream",
          "text": [
            "Requirement already satisfied: gym in /usr/local/lib/python3.6/dist-packages (0.17.2)\n",
            "Requirement already satisfied: pyglet<=1.5.0,>=1.4.0 in /usr/local/lib/python3.6/dist-packages (from gym) (1.5.0)\n",
            "Requirement already satisfied: scipy in /usr/local/lib/python3.6/dist-packages (from gym) (1.4.1)\n",
            "Requirement already satisfied: cloudpickle<1.4.0,>=1.2.0 in /usr/local/lib/python3.6/dist-packages (from gym) (1.3.0)\n",
            "Requirement already satisfied: numpy>=1.10.4 in /usr/local/lib/python3.6/dist-packages (from gym) (1.18.4)\n",
            "Requirement already satisfied: future in /usr/local/lib/python3.6/dist-packages (from pyglet<=1.5.0,>=1.4.0->gym) (0.16.0)\n",
            "Collecting pynput\n",
            "\u001b[?25l  Downloading https://files.pythonhosted.org/packages/33/0a/ea13c055a90b1aff5945e7eb330584f15e5282aead15a8f3cdb977a1534e/pynput-1.6.8-py2.py3-none-any.whl (91kB)\n",
            "\u001b[K     |████████████████████████████████| 92kB 2.4MB/s \n",
            "\u001b[?25hCollecting python-xlib>=0.17; \"linux\" in sys_platform\n",
            "\u001b[?25l  Downloading https://files.pythonhosted.org/packages/33/10/2eb938852a9bdf6745808f141c9fede76b1bd5a9530859bacc71985d29d9/python_xlib-0.27-py2.py3-none-any.whl (174kB)\n",
            "\u001b[K     |████████████████████████████████| 184kB 7.3MB/s \n",
            "\u001b[?25hRequirement already satisfied: six in /usr/local/lib/python3.6/dist-packages (from pynput) (1.12.0)\n",
            "Installing collected packages: python-xlib, pynput\n",
            "Successfully installed pynput-1.6.8 python-xlib-0.27\n"
          ],
          "name": "stdout"
        }
      ]
    },
    {
      "cell_type": "code",
      "metadata": {
        "id": "99IlmkkQ7mcr",
        "colab_type": "code",
        "colab": {
          "base_uri": "https://localhost:8080/",
          "height": 306
        },
        "outputId": "a037b0a4-a2b0-4b17-956b-28077530a153"
      },
      "source": [
        "!nvidia-smi"
      ],
      "execution_count": 2,
      "outputs": [
        {
          "output_type": "stream",
          "text": [
            "Sun May 31 18:11:55 2020       \n",
            "+-----------------------------------------------------------------------------+\n",
            "| NVIDIA-SMI 440.82       Driver Version: 418.67       CUDA Version: 10.1     |\n",
            "|-------------------------------+----------------------+----------------------+\n",
            "| GPU  Name        Persistence-M| Bus-Id        Disp.A | Volatile Uncorr. ECC |\n",
            "| Fan  Temp  Perf  Pwr:Usage/Cap|         Memory-Usage | GPU-Util  Compute M. |\n",
            "|===============================+======================+======================|\n",
            "|   0  Tesla P100-PCIE...  Off  | 00000000:00:04.0 Off |                    0 |\n",
            "| N/A   45C    P0    29W / 250W |      0MiB / 16280MiB |      0%      Default |\n",
            "+-------------------------------+----------------------+----------------------+\n",
            "                                                                               \n",
            "+-----------------------------------------------------------------------------+\n",
            "| Processes:                                                       GPU Memory |\n",
            "|  GPU       PID   Type   Process name                             Usage      |\n",
            "|=============================================================================|\n",
            "|  No running processes found                                                 |\n",
            "+-----------------------------------------------------------------------------+\n"
          ],
          "name": "stdout"
        }
      ]
    },
    {
      "cell_type": "code",
      "metadata": {
        "id": "B7VAg5r42H9q",
        "colab_type": "code",
        "colab": {
          "base_uri": "https://localhost:8080/",
          "height": 153
        },
        "outputId": "0680b541-f5c4-44fa-9164-1ca0a1207143"
      },
      "source": [
        "from getpass import getpass\n",
        "\n",
        "def clone_with_token(repo_name, owner_name=\"Kokkini\", user_email=\"trannhatquang1104@gmail.com\", user_name=\"Kokkini\"):\n",
        "  GIT_TOKEN = getpass('insert token: ')\n",
        "  GIT_PATH = f\"https://{GIT_TOKEN}@github.com/{owner_name}/{repo_name}.git\"\n",
        "  !git config --global user.email \"{user_email}\"\n",
        "  !git config --global user.name \"{user_name}\"\n",
        "  !git clone \"{GIT_PATH}\"\n",
        "  GIT_TOKEN, GIT_PATH = \"\", \"\"\n",
        "clone_with_token(\"DQfD\")"
      ],
      "execution_count": 3,
      "outputs": [
        {
          "output_type": "stream",
          "text": [
            "insert token: ··········\n",
            "Cloning into 'DQfD'...\n",
            "remote: Enumerating objects: 149, done.\u001b[K\n",
            "remote: Counting objects: 100% (149/149), done.\u001b[K\n",
            "remote: Compressing objects: 100% (128/128), done.\u001b[K\n",
            "remote: Total 149 (delta 84), reused 51 (delta 18), pack-reused 0\u001b[K\n",
            "Receiving objects: 100% (149/149), 61.58 KiB | 358.00 KiB/s, done.\n",
            "Resolving deltas: 100% (84/84), done.\n"
          ],
          "name": "stdout"
        }
      ]
    },
    {
      "cell_type": "code",
      "metadata": {
        "id": "3tBPFxBF55tf",
        "colab_type": "code",
        "colab": {
          "base_uri": "https://localhost:8080/",
          "height": 34
        },
        "outputId": "c6bfe1de-b071-4bb9-cb71-68799597d8f5"
      },
      "source": [
        "%cd DQfD/"
      ],
      "execution_count": 4,
      "outputs": [
        {
          "output_type": "stream",
          "text": [
            "/content/DQfD\n"
          ],
          "name": "stdout"
        }
      ]
    },
    {
      "cell_type": "code",
      "metadata": {
        "id": "o1mT261H2VMr",
        "colab_type": "code",
        "colab": {
          "base_uri": "https://localhost:8080/",
          "height": 1000
        },
        "outputId": "e490b751-8f2d-41c1-c968-9f0d8df08bb9"
      },
      "source": [
        "!python run_atari.py --env=BreakoutNoFrameskip-v4 --seed=0 --save_video_interval=100000 --pre_train_timesteps=80000 --save_path=\"/content/drive/My Drive/Colab Notebooks/imitation_RL\" --load_path=\"/content/drive/My Drive/Colab Notebooks/imitation_RL\" --demo_path=\"/content/drive/My Drive/Colab Notebooks/imitation_RL/human.BreakoutNoFrameskip-v4.pkl\" --log_path=\"/content/drive/My Drive/Colab Notebooks/imitation_RL/logs\" "
      ],
      "execution_count": 6,
      "outputs": [
        {
          "output_type": "stream",
          "text": [
            "2020-05-31 18:12:57.716826: I tensorflow/stream_executor/platform/default/dso_loader.cc:44] Successfully opened dynamic library libcudart.so.10.1\n",
            "Logging to /content/drive/My Drive/Colab Notebooks/imitation_RL/logs\n",
            "2020-05-31 18:13:00.779913: I tensorflow/stream_executor/platform/default/dso_loader.cc:44] Successfully opened dynamic library libcuda.so.1\n",
            "2020-05-31 18:13:00.824087: I tensorflow/stream_executor/cuda/cuda_gpu_executor.cc:981] successful NUMA node read from SysFS had negative value (-1), but there must be at least one NUMA node, so returning NUMA node zero\n",
            "2020-05-31 18:13:00.825160: I tensorflow/core/common_runtime/gpu/gpu_device.cc:1561] Found device 0 with properties: \n",
            "pciBusID: 0000:00:04.0 name: Tesla P100-PCIE-16GB computeCapability: 6.0\n",
            "coreClock: 1.3285GHz coreCount: 56 deviceMemorySize: 15.90GiB deviceMemoryBandwidth: 681.88GiB/s\n",
            "2020-05-31 18:13:00.825210: I tensorflow/stream_executor/platform/default/dso_loader.cc:44] Successfully opened dynamic library libcudart.so.10.1\n",
            "2020-05-31 18:13:01.067171: I tensorflow/stream_executor/platform/default/dso_loader.cc:44] Successfully opened dynamic library libcublas.so.10\n",
            "2020-05-31 18:13:01.196424: I tensorflow/stream_executor/platform/default/dso_loader.cc:44] Successfully opened dynamic library libcufft.so.10\n",
            "2020-05-31 18:13:01.221086: I tensorflow/stream_executor/platform/default/dso_loader.cc:44] Successfully opened dynamic library libcurand.so.10\n",
            "2020-05-31 18:13:01.499135: I tensorflow/stream_executor/platform/default/dso_loader.cc:44] Successfully opened dynamic library libcusolver.so.10\n",
            "2020-05-31 18:13:01.534557: I tensorflow/stream_executor/platform/default/dso_loader.cc:44] Successfully opened dynamic library libcusparse.so.10\n",
            "2020-05-31 18:13:02.070805: I tensorflow/stream_executor/platform/default/dso_loader.cc:44] Successfully opened dynamic library libcudnn.so.7\n",
            "2020-05-31 18:13:02.071055: I tensorflow/stream_executor/cuda/cuda_gpu_executor.cc:981] successful NUMA node read from SysFS had negative value (-1), but there must be at least one NUMA node, so returning NUMA node zero\n",
            "2020-05-31 18:13:02.072318: I tensorflow/stream_executor/cuda/cuda_gpu_executor.cc:981] successful NUMA node read from SysFS had negative value (-1), but there must be at least one NUMA node, so returning NUMA node zero\n",
            "2020-05-31 18:13:02.073309: I tensorflow/core/common_runtime/gpu/gpu_device.cc:1703] Adding visible gpu devices: 0\n",
            "2020-05-31 18:13:02.096373: I tensorflow/core/platform/profile_utils/cpu_utils.cc:102] CPU Frequency: 2300000000 Hz\n",
            "2020-05-31 18:13:02.096616: I tensorflow/compiler/xla/service/service.cc:168] XLA service 0x28aef40 initialized for platform Host (this does not guarantee that XLA will be used). Devices:\n",
            "2020-05-31 18:13:02.096656: I tensorflow/compiler/xla/service/service.cc:176]   StreamExecutor device (0): Host, Default Version\n",
            "2020-05-31 18:13:02.250370: I tensorflow/stream_executor/cuda/cuda_gpu_executor.cc:981] successful NUMA node read from SysFS had negative value (-1), but there must be at least one NUMA node, so returning NUMA node zero\n",
            "2020-05-31 18:13:02.251617: I tensorflow/compiler/xla/service/service.cc:168] XLA service 0x28af100 initialized for platform CUDA (this does not guarantee that XLA will be used). Devices:\n",
            "2020-05-31 18:13:02.251653: I tensorflow/compiler/xla/service/service.cc:176]   StreamExecutor device (0): Tesla P100-PCIE-16GB, Compute Capability 6.0\n",
            "2020-05-31 18:13:02.253144: I tensorflow/stream_executor/cuda/cuda_gpu_executor.cc:981] successful NUMA node read from SysFS had negative value (-1), but there must be at least one NUMA node, so returning NUMA node zero\n",
            "2020-05-31 18:13:02.254059: I tensorflow/core/common_runtime/gpu/gpu_device.cc:1561] Found device 0 with properties: \n",
            "pciBusID: 0000:00:04.0 name: Tesla P100-PCIE-16GB computeCapability: 6.0\n",
            "coreClock: 1.3285GHz coreCount: 56 deviceMemorySize: 15.90GiB deviceMemoryBandwidth: 681.88GiB/s\n",
            "2020-05-31 18:13:02.254126: I tensorflow/stream_executor/platform/default/dso_loader.cc:44] Successfully opened dynamic library libcudart.so.10.1\n",
            "2020-05-31 18:13:02.254179: I tensorflow/stream_executor/platform/default/dso_loader.cc:44] Successfully opened dynamic library libcublas.so.10\n",
            "2020-05-31 18:13:02.254217: I tensorflow/stream_executor/platform/default/dso_loader.cc:44] Successfully opened dynamic library libcufft.so.10\n",
            "2020-05-31 18:13:02.254261: I tensorflow/stream_executor/platform/default/dso_loader.cc:44] Successfully opened dynamic library libcurand.so.10\n",
            "2020-05-31 18:13:02.254305: I tensorflow/stream_executor/platform/default/dso_loader.cc:44] Successfully opened dynamic library libcusolver.so.10\n",
            "2020-05-31 18:13:02.254358: I tensorflow/stream_executor/platform/default/dso_loader.cc:44] Successfully opened dynamic library libcusparse.so.10\n",
            "2020-05-31 18:13:02.254396: I tensorflow/stream_executor/platform/default/dso_loader.cc:44] Successfully opened dynamic library libcudnn.so.7\n",
            "2020-05-31 18:13:02.254544: I tensorflow/stream_executor/cuda/cuda_gpu_executor.cc:981] successful NUMA node read from SysFS had negative value (-1), but there must be at least one NUMA node, so returning NUMA node zero\n",
            "2020-05-31 18:13:02.255594: I tensorflow/stream_executor/cuda/cuda_gpu_executor.cc:981] successful NUMA node read from SysFS had negative value (-1), but there must be at least one NUMA node, so returning NUMA node zero\n",
            "2020-05-31 18:13:02.256463: I tensorflow/core/common_runtime/gpu/gpu_device.cc:1703] Adding visible gpu devices: 0\n",
            "2020-05-31 18:13:02.260124: I tensorflow/stream_executor/platform/default/dso_loader.cc:44] Successfully opened dynamic library libcudart.so.10.1\n",
            "2020-05-31 18:13:08.681670: I tensorflow/core/common_runtime/gpu/gpu_device.cc:1102] Device interconnect StreamExecutor with strength 1 edge matrix:\n",
            "2020-05-31 18:13:08.681741: I tensorflow/core/common_runtime/gpu/gpu_device.cc:1108]      0 \n",
            "2020-05-31 18:13:08.681776: I tensorflow/core/common_runtime/gpu/gpu_device.cc:1121] 0:   N \n",
            "2020-05-31 18:13:08.686618: I tensorflow/stream_executor/cuda/cuda_gpu_executor.cc:981] successful NUMA node read from SysFS had negative value (-1), but there must be at least one NUMA node, so returning NUMA node zero\n",
            "2020-05-31 18:13:08.687738: I tensorflow/stream_executor/cuda/cuda_gpu_executor.cc:981] successful NUMA node read from SysFS had negative value (-1), but there must be at least one NUMA node, so returning NUMA node zero\n",
            "2020-05-31 18:13:08.688591: W tensorflow/core/common_runtime/gpu/gpu_bfc_allocator.cc:39] Overriding allow_growth setting because the TF_FORCE_GPU_ALLOW_GROWTH environment variable is set. Original config value was 0.\n",
            "2020-05-31 18:13:08.688650: I tensorflow/core/common_runtime/gpu/gpu_device.cc:1247] Created TensorFlow device (/job:localhost/replica:0/task:0/device:GPU:0 with 14974 MB memory) -> physical GPU (device: 0, name: Tesla P100-PCIE-16GB, pci bus id: 0000:00:04.0, compute capability: 6.0)\n",
            "input shape is (84, 84, 4)\n",
            "input shape is (84, 84, 4)\n",
            "Restoring from None\n",
            "trajectory length: 7904\n",
            "target network update\n",
            "  0% 0/750000 [00:00<?, ?it/s]2020-05-31 18:13:18.600559: I tensorflow/stream_executor/platform/default/dso_loader.cc:44] Successfully opened dynamic library libcublas.so.10\n",
            "2020-05-31 18:13:20.085752: I tensorflow/stream_executor/platform/default/dso_loader.cc:44] Successfully opened dynamic library libcudnn.so.7\n",
            "-----------------------------------------\n",
            "| % time spent exploring  | 1           |\n",
            "| demo sample rate        | 1           |\n",
            "| elapsed time            | 00:00:09    |\n",
            "| episodes                | 0           |\n",
            "| epsilon                 | 0           |\n",
            "| loss_l2                 | 0.020358332 |\n",
            "| loss_margin             | 2.069506    |\n",
            "| loss_n_td               | 0.7611711   |\n",
            "| loss_td                 | 0.8586774   |\n",
            "| losses_all              | 3.7097127   |\n",
            "| max 100 episode reward  | 0           |\n",
            "| mean 100 episode reward | 0           |\n",
            "| min 100 episode reward  | 0           |\n",
            "| pre_train               | True        |\n",
            "| steps                   | 0           |\n",
            "-----------------------------------------\n",
            "  1% 9993/750000 [01:52<2:07:20, 96.86it/s]-----------------------------------------\n",
            "| % time spent exploring  | 1           |\n",
            "| demo sample rate        | 1           |\n",
            "| elapsed time            | 00:01:53    |\n",
            "| episodes                | 0           |\n",
            "| epsilon                 | 0           |\n",
            "| loss_l2                 | 0.013610581 |\n",
            "| loss_margin             | 0.24238262  |\n",
            "| loss_n_td               | 0.05928903  |\n",
            "| loss_td                 | 0.057570077 |\n",
            "| losses_all              | 0.32475278  |\n",
            "| max 100 episode reward  | 0           |\n",
            "| mean 100 episode reward | 0           |\n",
            "| min 100 episode reward  | 0           |\n",
            "| pre_train               | True        |\n",
            "| steps                   | 10000       |\n",
            "-----------------------------------------\n",
            "  3% 19999/750000 [03:37<2:05:15, 97.13it/s]-----------------------------------------\n",
            "| % time spent exploring  | 1           |\n",
            "| demo sample rate        | 1           |\n",
            "| elapsed time            | 00:03:37    |\n",
            "| episodes                | 0           |\n",
            "| epsilon                 | 0           |\n",
            "| loss_l2                 | 0.014538095 |\n",
            "| loss_margin             | 0.09742394  |\n",
            "| loss_n_td               | 0.028138585 |\n",
            "| loss_td                 | 0.027945917 |\n",
            "| losses_all              | 0.15193096  |\n",
            "| max 100 episode reward  | 0           |\n",
            "| mean 100 episode reward | 0           |\n",
            "| min 100 episode reward  | 0           |\n",
            "| pre_train               | True        |\n",
            "| steps                   | 20000       |\n",
            "-----------------------------------------\n",
            "  4% 29998/750000 [05:20<2:09:51, 92.41it/s]-----------------------------------------\n",
            "| % time spent exploring  | 1           |\n",
            "| demo sample rate        | 1           |\n",
            "| elapsed time            | 00:05:21    |\n",
            "| episodes                | 0           |\n",
            "| epsilon                 | 0           |\n",
            "| loss_l2                 | 0.014745714 |\n",
            "| loss_margin             | 0.0         |\n",
            "| loss_n_td               | 0.01873406  |\n",
            "| loss_td                 | 0.007018747 |\n",
            "| losses_all              | 0.038337536 |\n",
            "| max 100 episode reward  | 0           |\n",
            "| mean 100 episode reward | 0           |\n",
            "| min 100 episode reward  | 0           |\n",
            "| pre_train               | True        |\n",
            "| steps                   | 30000       |\n",
            "-----------------------------------------\n",
            "  5% 39995/750000 [07:04<2:16:19, 86.81it/s]------------------------------------------\n",
            "| % time spent exploring  | 1            |\n",
            "| demo sample rate        | 1            |\n",
            "| elapsed time            | 00:07:05     |\n",
            "| episodes                | 0            |\n",
            "| epsilon                 | 0            |\n",
            "| loss_l2                 | 0.014563222  |\n",
            "| loss_margin             | 0.0006464273 |\n",
            "| loss_n_td               | 0.0071666306 |\n",
            "| loss_td                 | 0.0054043587 |\n",
            "| losses_all              | 0.026927255  |\n",
            "| max 100 episode reward  | 0            |\n",
            "| mean 100 episode reward | 0            |\n",
            "| min 100 episode reward  | 0            |\n",
            "| pre_train               | True         |\n",
            "| steps                   | 40000        |\n",
            "------------------------------------------\n",
            "  7% 49992/750000 [08:48<1:59:15, 97.83it/s]-----------------------------------------\n",
            "| % time spent exploring  | 1           |\n",
            "| demo sample rate        | 1           |\n",
            "| elapsed time            | 00:08:49    |\n",
            "| episodes                | 0           |\n",
            "| epsilon                 | 0           |\n",
            "| loss_l2                 | 0.014193705 |\n",
            "| loss_margin             | 0.0         |\n",
            "| loss_n_td               | 0.00861255  |\n",
            "| loss_td                 | 0.006993901 |\n",
            "| losses_all              | 0.028562725 |\n",
            "| max 100 episode reward  | 0           |\n",
            "| mean 100 episode reward | 0           |\n",
            "| min 100 episode reward  | 0           |\n",
            "| pre_train               | True        |\n",
            "| steps                   | 50000       |\n",
            "-----------------------------------------\n",
            "  8% 59991/750000 [10:31<2:03:26, 93.17it/s]------------------------------------------\n",
            "| % time spent exploring  | 1            |\n",
            "| demo sample rate        | 1            |\n",
            "| elapsed time            | 00:10:31     |\n",
            "| episodes                | 0            |\n",
            "| epsilon                 | 0            |\n",
            "| loss_l2                 | 0.013699231  |\n",
            "| loss_margin             | 0.0          |\n",
            "| loss_n_td               | 0.004455301  |\n",
            "| loss_td                 | 0.0063945786 |\n",
            "| losses_all              | 0.023959666  |\n",
            "| max 100 episode reward  | 0            |\n",
            "| mean 100 episode reward | 0            |\n",
            "| min 100 episode reward  | 0            |\n",
            "| pre_train               | True         |\n",
            "| steps                   | 60000        |\n",
            "------------------------------------------\n",
            "  9% 69996/750000 [12:13<1:54:38, 98.86it/s]------------------------------------------\n",
            "| % time spent exploring  | 1            |\n",
            "| demo sample rate        | 1            |\n",
            "| elapsed time            | 00:12:13     |\n",
            "| episodes                | 0            |\n",
            "| epsilon                 | 0            |\n",
            "| loss_l2                 | 0.013154865  |\n",
            "| loss_margin             | 0.003931325  |\n",
            "| loss_n_td               | 0.00635824   |\n",
            "| loss_td                 | 0.0048620496 |\n",
            "| losses_all              | 0.027181301  |\n",
            "| max 100 episode reward  | 0            |\n",
            "| mean 100 episode reward | 0            |\n",
            "| min 100 episode reward  | 0            |\n",
            "| pre_train               | True         |\n",
            "| steps                   | 70000        |\n",
            "------------------------------------------\n",
            " 11% 79999/750000 [13:56<1:53:26, 98.44it/s]------------------------------------------\n",
            "| % time spent exploring  | 1            |\n",
            "| demo sample rate        | 1            |\n",
            "| elapsed time            | 00:13:56     |\n",
            "| episodes                | 0            |\n",
            "| epsilon                 | 0            |\n",
            "| loss_l2                 | 0.012590136  |\n",
            "| loss_margin             | 0.0          |\n",
            "| loss_n_td               | 0.009932721  |\n",
            "| loss_td                 | 0.0062857093 |\n",
            "| losses_all              | 0.0275826    |\n",
            "| max 100 episode reward  | 0            |\n",
            "| mean 100 episode reward | 0            |\n",
            "| min 100 episode reward  | 0            |\n",
            "| pre_train               | True         |\n",
            "| steps                   | 80000        |\n",
            "------------------------------------------\n",
            " 12% 88356/750000 [15:21<1:53:21, 97.28it/s]Traceback (most recent call last):\n",
            "\n",
            " 12% 88356/750000 [15:21<1:55:01, 95.87it/s]\n"
          ],
          "name": "stdout"
        }
      ]
    },
    {
      "cell_type": "code",
      "metadata": {
        "id": "0u3ghxyr50fh",
        "colab_type": "code",
        "colab": {
          "base_uri": "https://localhost:8080/",
          "height": 85
        },
        "outputId": "8d74b2fc-0aa6-4c82-e8e7-47f1973b7a5f"
      },
      "source": [
        "!git status"
      ],
      "execution_count": 7,
      "outputs": [
        {
          "output_type": "stream",
          "text": [
            "On branch master\n",
            "Your branch is up to date with 'origin/master'.\n",
            "\n",
            "nothing to commit, working tree clean\n"
          ],
          "name": "stdout"
        }
      ]
    },
    {
      "cell_type": "code",
      "metadata": {
        "id": "k1pjp4M7_2Uu",
        "colab_type": "code",
        "colab": {}
      },
      "source": [
        ""
      ],
      "execution_count": 0,
      "outputs": []
    }
  ]
}